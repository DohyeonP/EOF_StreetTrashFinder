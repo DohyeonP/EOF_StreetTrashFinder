{
 "cells": [
  {
   "cell_type": "markdown",
   "id": "9b83a8e3-e704-43bf-9a5c-ce295dd34adc",
   "metadata": {},
   "source": [
    "# Data Augmentation을 위한 라이브러리 import"
   ]
  },
  {
   "cell_type": "code",
   "execution_count": 17,
   "id": "651cbac2-3a35-4f66-a905-7e42d3bc1e67",
   "metadata": {},
   "outputs": [],
   "source": [
    "import cv2\n",
    "import numpy as np"
   ]
  },
  {
   "cell_type": "markdown",
   "id": "a7350cc6-3233-4096-aa2c-3ce1d264ccfa",
   "metadata": {},
   "source": [
    "# 라벨이 없는 경우"
   ]
  },
  {
   "cell_type": "markdown",
   "id": "a833c04f-3690-43d3-a43d-abe0f8a87efc",
   "metadata": {},
   "source": [
    "# 이미지 불러오기"
   ]
  },
  {
   "cell_type": "code",
   "execution_count": 18,
   "id": "f1b668c7-7ae6-447c-aedd-cc50dce4405f",
   "metadata": {},
   "outputs": [
    {
     "name": "stderr",
     "output_type": "stream",
     "text": [
      "[ WARN:0@905.871] global loadsave.cpp:248 findDecoder imread_('nl_0001.jpg'): can't open/read file: check file path/integrity\n"
     ]
    }
   ],
   "source": [
    "image_path = 'nl_0001.jpg'\n",
    "image = cv2.imread(image_path)"
   ]
  },
  {
   "cell_type": "markdown",
   "id": "a255b02c-3b7b-4d40-903e-0c3618989705",
   "metadata": {},
   "source": [
    "# 저장할 이미지의 수와 시작할 번호"
   ]
  },
  {
   "cell_type": "code",
   "execution_count": 19,
   "id": "57cfddd2-57ca-46b1-85c5-a3ad52a99759",
   "metadata": {},
   "outputs": [],
   "source": [
    "num_images = 5\n",
    "b = 0000"
   ]
  },
  {
   "cell_type": "markdown",
   "id": "eba5457b-ee0a-4f2d-bba1-d733f99d06ec",
   "metadata": {},
   "source": [
    "- num_image는 바로 아래 for문에만 영향을 줌\n",
    "- b는 24씩 증가시켜나감"
   ]
  },
  {
   "cell_type": "markdown",
   "id": "0bd3ccfc-4be0-4bf9-ae3c-e4f59a5e0b0c",
   "metadata": {},
   "source": [
    "# 회전, 채도, 크기, 밝기 조절"
   ]
  },
  {
   "cell_type": "code",
   "execution_count": 20,
   "id": "8f3cde4b-04e4-4e2e-ae61-83613ee4a5fc",
   "metadata": {},
   "outputs": [
    {
     "ename": "AttributeError",
     "evalue": "'NoneType' object has no attribute 'shape'",
     "output_type": "error",
     "traceback": [
      "\u001b[0;31m---------------------------------------------------------------------------\u001b[0m",
      "\u001b[0;31mAttributeError\u001b[0m                            Traceback (most recent call last)",
      "Cell \u001b[0;32mIn[20], line 3\u001b[0m\n\u001b[1;32m      1\u001b[0m \u001b[38;5;28;01mfor\u001b[39;00m i \u001b[38;5;129;01min\u001b[39;00m \u001b[38;5;28mrange\u001b[39m(num_images):  \n\u001b[1;32m      2\u001b[0m     angle \u001b[38;5;241m=\u001b[39m \u001b[38;5;241m30\u001b[39m \u001b[38;5;241m*\u001b[39m (i \u001b[38;5;241m+\u001b[39m \u001b[38;5;241m1\u001b[39m)\n\u001b[0;32m----> 3\u001b[0m     height, width \u001b[38;5;241m=\u001b[39m \u001b[43mimage\u001b[49m\u001b[38;5;241;43m.\u001b[39;49m\u001b[43mshape\u001b[49m[:\u001b[38;5;241m2\u001b[39m]\n\u001b[1;32m      4\u001b[0m     rotation_matrix \u001b[38;5;241m=\u001b[39m cv2\u001b[38;5;241m.\u001b[39mgetRotationMatrix2D((width \u001b[38;5;241m/\u001b[39m \u001b[38;5;241m2\u001b[39m, height \u001b[38;5;241m/\u001b[39m \u001b[38;5;241m2\u001b[39m), angle, \u001b[38;5;241m1\u001b[39m)\n\u001b[1;32m      5\u001b[0m     rotated_image \u001b[38;5;241m=\u001b[39m cv2\u001b[38;5;241m.\u001b[39mwarpAffine(image, rotation_matrix, (width, height))\n",
      "\u001b[0;31mAttributeError\u001b[0m: 'NoneType' object has no attribute 'shape'"
     ]
    }
   ],
   "source": [
    "for i in range(num_images):  \n",
    "    angle = 30 * (i + 1)\n",
    "    height, width = image.shape[:2]\n",
    "    rotation_matrix = cv2.getRotationMatrix2D((width / 2, height / 2), angle, 1)\n",
    "    rotated_image = cv2.warpAffine(image, rotation_matrix, (width, height))\n",
    "    output_path = f'nl_{b+i:04d}.jpg'\n",
    "    cv2.imwrite(output_path, rotated_image)\n",
    "    \n",
    "    hsv_image = cv2.cvtColor(image, cv2.COLOR_BGR2HSV)\n",
    "    saturation_factor = 1.0 + i * 0.1\n",
    "    hsv_image[..., 1] = np.clip(hsv_image[..., 1] * saturation_factor, 0, 255)\n",
    "    saturated_image = cv2.cvtColor(hsv_image, cv2.COLOR_HSV2BGR)\n",
    "    output_path = f'nl_{b+i+5:04d}.jpg'\n",
    "    cv2.imwrite(output_path, saturated_image)\n",
    "    \n",
    "    scale_percent = 0.8 + i * 0.1\n",
    "    new_width = int(image.shape[1] * scale_percent)\n",
    "    new_height = int(image.shape[0] * scale_percent)\n",
    "    resized_image = cv2.resize(image, (new_width, new_height), interpolation=cv2.INTER_AREA)\n",
    "    output_path = f'nl_{b+i+10:04d}.jpg'\n",
    "    cv2.imwrite(output_path, resized_image)\n",
    "\n",
    "    alpha = 1.0 - i * 0.1\n",
    "    adjusted_image = cv2.convertScaleAbs(image, alpha=alpha, beta=0)\n",
    "    output_path = f'nl_{b+i+15:04d}.jpg'\n",
    "    cv2.imwrite(output_path, adjusted_image)"
   ]
  },
  {
   "cell_type": "markdown",
   "id": "9e0669f5-1b2a-4d23-a213-6cbdb126d417",
   "metadata": {},
   "source": [
    "# 가우시안 잡음 및 블러"
   ]
  },
  {
   "cell_type": "code",
   "execution_count": 21,
   "id": "43c67ba1-aa8b-4b8a-8674-16b24d8d3bf7",
   "metadata": {},
   "outputs": [
    {
     "ename": "AttributeError",
     "evalue": "'NoneType' object has no attribute 'shape'",
     "output_type": "error",
     "traceback": [
      "\u001b[0;31m---------------------------------------------------------------------------\u001b[0m",
      "\u001b[0;31mAttributeError\u001b[0m                            Traceback (most recent call last)",
      "Cell \u001b[0;32mIn[21], line 1\u001b[0m\n\u001b[0;32m----> 1\u001b[0m noise \u001b[38;5;241m=\u001b[39m np\u001b[38;5;241m.\u001b[39mrandom\u001b[38;5;241m.\u001b[39mnormal(\u001b[38;5;241m0\u001b[39m, \u001b[38;5;241m25\u001b[39m, \u001b[43mimage\u001b[49m\u001b[38;5;241;43m.\u001b[39;49m\u001b[43mshape\u001b[49m)\u001b[38;5;241m.\u001b[39mastype(\u001b[38;5;124m'\u001b[39m\u001b[38;5;124muint8\u001b[39m\u001b[38;5;124m'\u001b[39m)\n\u001b[1;32m      2\u001b[0m noisy_image \u001b[38;5;241m=\u001b[39m cv2\u001b[38;5;241m.\u001b[39madd(image, noise)\n\u001b[1;32m      3\u001b[0m output_path \u001b[38;5;241m=\u001b[39m \u001b[38;5;124mf\u001b[39m\u001b[38;5;124m'\u001b[39m\u001b[38;5;124mnl_\u001b[39m\u001b[38;5;132;01m{\u001b[39;00mb\u001b[38;5;241m+\u001b[39m\u001b[38;5;241m20\u001b[39m\u001b[38;5;132;01m:\u001b[39;00m\u001b[38;5;124m04d\u001b[39m\u001b[38;5;132;01m}\u001b[39;00m\u001b[38;5;124m.jpg\u001b[39m\u001b[38;5;124m'\u001b[39m\n",
      "\u001b[0;31mAttributeError\u001b[0m: 'NoneType' object has no attribute 'shape'"
     ]
    }
   ],
   "source": [
    "noise = np.random.normal(0, 25, image.shape).astype('uint8')\n",
    "noisy_image = cv2.add(image, noise)\n",
    "output_path = f'nl_{b+20:04d}.jpg'\n",
    "cv2.imwrite(output_path, noisy_image)\n",
    "\n",
    "blurred_image = cv2.GaussianBlur(image, (5, 5), 0)\n",
    "output_path = f'nl_{b+21:04d}.jpg'\n",
    "cv2.imwrite(output_path, blurred_image)"
   ]
  },
  {
   "cell_type": "markdown",
   "id": "7900ce3c-f405-4b4c-abc5-9a5fdb7dcf90",
   "metadata": {},
   "source": [
    "# 좌우, 상하 반전"
   ]
  },
  {
   "cell_type": "code",
   "execution_count": 22,
   "id": "51770a56-b6f0-4c8c-a928-650a45e13b5a",
   "metadata": {},
   "outputs": [
    {
     "ename": "error",
     "evalue": "OpenCV(4.8.1) /io/opencv/modules/imgcodecs/src/loadsave.cpp:787: error: (-215:Assertion failed) !_img.empty() in function 'imwrite'\n",
     "output_type": "error",
     "traceback": [
      "\u001b[0;31m---------------------------------------------------------------------------\u001b[0m",
      "\u001b[0;31merror\u001b[0m                                     Traceback (most recent call last)",
      "Cell \u001b[0;32mIn[22], line 3\u001b[0m\n\u001b[1;32m      1\u001b[0m flipped_image1 \u001b[38;5;241m=\u001b[39m cv2\u001b[38;5;241m.\u001b[39mflip(image, \u001b[38;5;241m1\u001b[39m)\n\u001b[1;32m      2\u001b[0m output_path \u001b[38;5;241m=\u001b[39m \u001b[38;5;124mf\u001b[39m\u001b[38;5;124m'\u001b[39m\u001b[38;5;124mnl_\u001b[39m\u001b[38;5;132;01m{\u001b[39;00mb\u001b[38;5;241m+\u001b[39m\u001b[38;5;241m22\u001b[39m\u001b[38;5;132;01m:\u001b[39;00m\u001b[38;5;124m04d\u001b[39m\u001b[38;5;132;01m}\u001b[39;00m\u001b[38;5;124m.jpg\u001b[39m\u001b[38;5;124m'\u001b[39m\n\u001b[0;32m----> 3\u001b[0m \u001b[43mcv2\u001b[49m\u001b[38;5;241;43m.\u001b[39;49m\u001b[43mimwrite\u001b[49m\u001b[43m(\u001b[49m\u001b[43moutput_path\u001b[49m\u001b[43m,\u001b[49m\u001b[43m \u001b[49m\u001b[43mflipped_image1\u001b[49m\u001b[43m)\u001b[49m\n\u001b[1;32m      5\u001b[0m flipped_image0 \u001b[38;5;241m=\u001b[39m cv2\u001b[38;5;241m.\u001b[39mflip(image, \u001b[38;5;241m0\u001b[39m)\n\u001b[1;32m      6\u001b[0m output_path \u001b[38;5;241m=\u001b[39m \u001b[38;5;124mf\u001b[39m\u001b[38;5;124m'\u001b[39m\u001b[38;5;124mnl_\u001b[39m\u001b[38;5;132;01m{\u001b[39;00mb\u001b[38;5;241m+\u001b[39m\u001b[38;5;241m23\u001b[39m\u001b[38;5;132;01m:\u001b[39;00m\u001b[38;5;124m04d\u001b[39m\u001b[38;5;132;01m}\u001b[39;00m\u001b[38;5;124m.jpg\u001b[39m\u001b[38;5;124m'\u001b[39m\n",
      "\u001b[0;31merror\u001b[0m: OpenCV(4.8.1) /io/opencv/modules/imgcodecs/src/loadsave.cpp:787: error: (-215:Assertion failed) !_img.empty() in function 'imwrite'\n"
     ]
    }
   ],
   "source": [
    "flipped_image1 = cv2.flip(image, 1)\n",
    "output_path = f'nl_{b+22:04d}.jpg'\n",
    "cv2.imwrite(output_path, flipped_image1)\n",
    "\n",
    "flipped_image0 = cv2.flip(image, 0)\n",
    "output_path = f'nl_{b+23:04d}.jpg'\n",
    "cv2.imwrite(output_path, flipped_image0)"
   ]
  },
  {
   "cell_type": "markdown",
   "id": "7c81da7c-6427-47b2-ba02-3b4c1c4e7789",
   "metadata": {},
   "source": [
    "# 라벨이 있는 경우"
   ]
  },
  {
   "cell_type": "markdown",
   "id": "44a90212-267f-47f5-bba3-da66a59d1b44",
   "metadata": {},
   "source": [
    "# 이미지 불러오기"
   ]
  },
  {
   "cell_type": "code",
   "execution_count": 23,
   "id": "60c0c312-22d6-4a05-888c-e64f5c1aaf9b",
   "metadata": {},
   "outputs": [
    {
     "name": "stderr",
     "output_type": "stream",
     "text": [
      "[ WARN:0@907.623] global loadsave.cpp:248 findDecoder imread_('yl_0410.jpg'): can't open/read file: check file path/integrity\n"
     ]
    }
   ],
   "source": [
    "image_path = 'yl_0001.jpg'\n",
    "image = cv2.imread(image_path)"
   ]
  },
  {
   "cell_type": "markdown",
   "id": "992063f9-f5bf-494c-863a-9233ddeadffb",
   "metadata": {},
   "source": [
    "# 회전, 채도, 크기, 밝기 조절"
   ]
  },
  {
   "cell_type": "code",
   "execution_count": 24,
   "id": "d726705d-506f-4c39-9e72-96f2cc90dc17",
   "metadata": {},
   "outputs": [
    {
     "ename": "AttributeError",
     "evalue": "'NoneType' object has no attribute 'shape'",
     "output_type": "error",
     "traceback": [
      "\u001b[0;31m---------------------------------------------------------------------------\u001b[0m",
      "\u001b[0;31mAttributeError\u001b[0m                            Traceback (most recent call last)",
      "Cell \u001b[0;32mIn[24], line 3\u001b[0m\n\u001b[1;32m      1\u001b[0m \u001b[38;5;28;01mfor\u001b[39;00m i \u001b[38;5;129;01min\u001b[39;00m \u001b[38;5;28mrange\u001b[39m(num_images):  \n\u001b[1;32m      2\u001b[0m     angle \u001b[38;5;241m=\u001b[39m \u001b[38;5;241m30\u001b[39m \u001b[38;5;241m*\u001b[39m (i \u001b[38;5;241m+\u001b[39m \u001b[38;5;241m1\u001b[39m)  \u001b[38;5;66;03m# 각 이미지마다 회전 각도를 다르게 설정할 수 있도록 조정\u001b[39;00m\n\u001b[0;32m----> 3\u001b[0m     height, width \u001b[38;5;241m=\u001b[39m \u001b[43mimage\u001b[49m\u001b[38;5;241;43m.\u001b[39;49m\u001b[43mshape\u001b[49m[:\u001b[38;5;241m2\u001b[39m]\n\u001b[1;32m      4\u001b[0m     rotation_matrix \u001b[38;5;241m=\u001b[39m cv2\u001b[38;5;241m.\u001b[39mgetRotationMatrix2D((width \u001b[38;5;241m/\u001b[39m \u001b[38;5;241m2\u001b[39m, height \u001b[38;5;241m/\u001b[39m \u001b[38;5;241m2\u001b[39m), angle, \u001b[38;5;241m1\u001b[39m)\n\u001b[1;32m      5\u001b[0m     rotated_image \u001b[38;5;241m=\u001b[39m cv2\u001b[38;5;241m.\u001b[39mwarpAffine(image, rotation_matrix, (width, height))\n",
      "\u001b[0;31mAttributeError\u001b[0m: 'NoneType' object has no attribute 'shape'"
     ]
    }
   ],
   "source": [
    "for i in range(num_images):  \n",
    "    angle = 30 * (i + 1)  # 각 이미지마다 회전 각도를 다르게 설정할 수 있도록 조정\n",
    "    height, width = image.shape[:2]\n",
    "    rotation_matrix = cv2.getRotationMatrix2D((width / 2, height / 2), angle, 1)\n",
    "    rotated_image = cv2.warpAffine(image, rotation_matrix, (width, height))\n",
    "    output_path = f'yl_{b+i:04d}.jpg'\n",
    "    cv2.imwrite(output_path, rotated_image)\n",
    "    \n",
    "    hsv_image = cv2.cvtColor(image, cv2.COLOR_BGR2HSV)\n",
    "    saturation_factor = 1.0 + i * 0.1  # 각 이미지마다 채도를 다르게 조절할 수 있도록 설정\n",
    "    hsv_image[..., 1] = np.clip(hsv_image[..., 1] * saturation_factor, 0, 255)\n",
    "    saturated_image = cv2.cvtColor(hsv_image, cv2.COLOR_HSV2BGR)\n",
    "    output_path = f'yl_{b+i+5:04d}.jpg'\n",
    "    cv2.imwrite(output_path, saturated_image)\n",
    "    \n",
    "    scale_percent = 0.8 + i * 0.1  # 각 이미지마다 크기를 다르게 조절할 수 있도록 설정\n",
    "    new_width = int(image.shape[1] * scale_percent)\n",
    "    new_height = int(image.shape[0] * scale_percent)\n",
    "    resized_image = cv2.resize(image, (new_width, new_height), interpolation=cv2.INTER_AREA)\n",
    "    output_path = f'yl_{b+i+10:04d}.jpg'\n",
    "    cv2.imwrite(output_path, resized_image)\n",
    "\n",
    "    alpha = 1.0 - i * 0.1  # 각 이미지마다 밝기를 다르게 조절할 수 있도록 설정\n",
    "    adjusted_image = cv2.convertScaleAbs(image, alpha=alpha, beta=0)\n",
    "    output_path = f'yl_{b+i+15:04d}.jpg'\n",
    "    cv2.imwrite(output_path, adjusted_image)"
   ]
  },
  {
   "cell_type": "markdown",
   "id": "baf96df0-aa9e-4f24-9c6e-60281af1fd57",
   "metadata": {},
   "source": [
    "# 가우시안 잡음 및 블러"
   ]
  },
  {
   "cell_type": "code",
   "execution_count": 25,
   "id": "1d51cdc7-879c-4c37-8c62-9cab31cd2508",
   "metadata": {},
   "outputs": [
    {
     "ename": "AttributeError",
     "evalue": "'NoneType' object has no attribute 'shape'",
     "output_type": "error",
     "traceback": [
      "\u001b[0;31m---------------------------------------------------------------------------\u001b[0m",
      "\u001b[0;31mAttributeError\u001b[0m                            Traceback (most recent call last)",
      "Cell \u001b[0;32mIn[25], line 1\u001b[0m\n\u001b[0;32m----> 1\u001b[0m noise \u001b[38;5;241m=\u001b[39m np\u001b[38;5;241m.\u001b[39mrandom\u001b[38;5;241m.\u001b[39mnormal(\u001b[38;5;241m0\u001b[39m, \u001b[38;5;241m25\u001b[39m, \u001b[43mimage\u001b[49m\u001b[38;5;241;43m.\u001b[39;49m\u001b[43mshape\u001b[49m)\u001b[38;5;241m.\u001b[39mastype(\u001b[38;5;124m'\u001b[39m\u001b[38;5;124muint8\u001b[39m\u001b[38;5;124m'\u001b[39m)  \u001b[38;5;66;03m# 가우시안 잡음 추가\u001b[39;00m\n\u001b[1;32m      2\u001b[0m noisy_image \u001b[38;5;241m=\u001b[39m cv2\u001b[38;5;241m.\u001b[39madd(image, noise)\n\u001b[1;32m      3\u001b[0m output_path \u001b[38;5;241m=\u001b[39m \u001b[38;5;124mf\u001b[39m\u001b[38;5;124m'\u001b[39m\u001b[38;5;124myl_\u001b[39m\u001b[38;5;132;01m{\u001b[39;00mb\u001b[38;5;241m+\u001b[39m\u001b[38;5;241m20\u001b[39m\u001b[38;5;132;01m:\u001b[39;00m\u001b[38;5;124m04d\u001b[39m\u001b[38;5;132;01m}\u001b[39;00m\u001b[38;5;124m.jpg\u001b[39m\u001b[38;5;124m'\u001b[39m\n",
      "\u001b[0;31mAttributeError\u001b[0m: 'NoneType' object has no attribute 'shape'"
     ]
    }
   ],
   "source": [
    "noise = np.random.normal(0, 25, image.shape).astype('uint8')  # 가우시안 잡음 추가\n",
    "noisy_image = cv2.add(image, noise)\n",
    "output_path = f'yl_{b+20:04d}.jpg'\n",
    "cv2.imwrite(output_path, noisy_image)\n",
    "\n",
    "blurred_image = cv2.GaussianBlur(image, (5, 5), 0)\n",
    "output_path = f'yl_{b+21:04d}.jpg'\n",
    "cv2.imwrite(output_path, blurred_image)"
   ]
  },
  {
   "cell_type": "markdown",
   "id": "706f154b-9ea1-4723-aaaa-def798b68a46",
   "metadata": {},
   "source": [
    "# 좌우, 상하 반전"
   ]
  },
  {
   "cell_type": "code",
   "execution_count": 26,
   "id": "da175cb6-d47a-4677-bb34-f5d79dc6a9a2",
   "metadata": {},
   "outputs": [
    {
     "ename": "error",
     "evalue": "OpenCV(4.8.1) /io/opencv/modules/imgcodecs/src/loadsave.cpp:787: error: (-215:Assertion failed) !_img.empty() in function 'imwrite'\n",
     "output_type": "error",
     "traceback": [
      "\u001b[0;31m---------------------------------------------------------------------------\u001b[0m",
      "\u001b[0;31merror\u001b[0m                                     Traceback (most recent call last)",
      "Cell \u001b[0;32mIn[26], line 3\u001b[0m\n\u001b[1;32m      1\u001b[0m flipped_image1 \u001b[38;5;241m=\u001b[39m cv2\u001b[38;5;241m.\u001b[39mflip(image, \u001b[38;5;241m1\u001b[39m)  \u001b[38;5;66;03m# 1은 좌우 반전, 0은 상하 반전\u001b[39;00m\n\u001b[1;32m      2\u001b[0m output_path \u001b[38;5;241m=\u001b[39m \u001b[38;5;124mf\u001b[39m\u001b[38;5;124m'\u001b[39m\u001b[38;5;124myl_\u001b[39m\u001b[38;5;132;01m{\u001b[39;00mb\u001b[38;5;241m+\u001b[39m\u001b[38;5;241m22\u001b[39m\u001b[38;5;132;01m:\u001b[39;00m\u001b[38;5;124m04d\u001b[39m\u001b[38;5;132;01m}\u001b[39;00m\u001b[38;5;124m.jpg\u001b[39m\u001b[38;5;124m'\u001b[39m\n\u001b[0;32m----> 3\u001b[0m \u001b[43mcv2\u001b[49m\u001b[38;5;241;43m.\u001b[39;49m\u001b[43mimwrite\u001b[49m\u001b[43m(\u001b[49m\u001b[43moutput_path\u001b[49m\u001b[43m,\u001b[49m\u001b[43m \u001b[49m\u001b[43mflipped_image1\u001b[49m\u001b[43m)\u001b[49m\n\u001b[1;32m      5\u001b[0m flipped_image0 \u001b[38;5;241m=\u001b[39m cv2\u001b[38;5;241m.\u001b[39mflip(image, \u001b[38;5;241m0\u001b[39m)  \u001b[38;5;66;03m# 1은 좌우 반전, 0은 상하 반전\u001b[39;00m\n\u001b[1;32m      6\u001b[0m output_path \u001b[38;5;241m=\u001b[39m \u001b[38;5;124mf\u001b[39m\u001b[38;5;124m'\u001b[39m\u001b[38;5;124myl_\u001b[39m\u001b[38;5;132;01m{\u001b[39;00mb\u001b[38;5;241m+\u001b[39m\u001b[38;5;241m23\u001b[39m\u001b[38;5;132;01m:\u001b[39;00m\u001b[38;5;124m04d\u001b[39m\u001b[38;5;132;01m}\u001b[39;00m\u001b[38;5;124m.jpg\u001b[39m\u001b[38;5;124m'\u001b[39m\n",
      "\u001b[0;31merror\u001b[0m: OpenCV(4.8.1) /io/opencv/modules/imgcodecs/src/loadsave.cpp:787: error: (-215:Assertion failed) !_img.empty() in function 'imwrite'\n"
     ]
    }
   ],
   "source": [
    "flipped_image1 = cv2.flip(image, 1)  # 1은 좌우 반전, 0은 상하 반전\n",
    "output_path = f'yl_{b+22:04d}.jpg'\n",
    "cv2.imwrite(output_path, flipped_image1)\n",
    "\n",
    "flipped_image0 = cv2.flip(image, 0)  # 1은 좌우 반전, 0은 상하 반전\n",
    "output_path = f'yl_{b+23:04d}.jpg'\n",
    "cv2.imwrite(output_path, flipped_image0)"
   ]
  },
  {
   "cell_type": "markdown",
   "id": "f9de6fcf-b19e-4400-9923-3787c7c6c356",
   "metadata": {},
   "source": [
    "# 증강된 이미지 보기"
   ]
  },
  {
   "cell_type": "code",
   "execution_count": 27,
   "id": "99295b31-e262-4782-906d-22e19993ef4c",
   "metadata": {},
   "outputs": [
    {
     "ename": "error",
     "evalue": "OpenCV(4.8.1) /io/opencv/modules/highgui/src/window.cpp:971: error: (-215:Assertion failed) size.width>0 && size.height>0 in function 'imshow'\n",
     "output_type": "error",
     "traceback": [
      "\u001b[0;31m---------------------------------------------------------------------------\u001b[0m",
      "\u001b[0;31merror\u001b[0m                                     Traceback (most recent call last)",
      "Cell \u001b[0;32mIn[27], line 1\u001b[0m\n\u001b[0;32m----> 1\u001b[0m \u001b[43mcv2\u001b[49m\u001b[38;5;241;43m.\u001b[39;49m\u001b[43mimshow\u001b[49m\u001b[43m(\u001b[49m\u001b[38;5;124;43m'\u001b[39;49m\u001b[38;5;124;43mOriginal Image\u001b[39;49m\u001b[38;5;124;43m'\u001b[39;49m\u001b[43m,\u001b[49m\u001b[43m \u001b[49m\u001b[43mimage\u001b[49m\u001b[43m)\u001b[49m\n\u001b[1;32m      2\u001b[0m cv2\u001b[38;5;241m.\u001b[39mimshow(\u001b[38;5;124m'\u001b[39m\u001b[38;5;124mRotated Image\u001b[39m\u001b[38;5;124m'\u001b[39m, rotated_image)\n\u001b[1;32m      3\u001b[0m cv2\u001b[38;5;241m.\u001b[39mimshow(\u001b[38;5;124m'\u001b[39m\u001b[38;5;124mFlipped Image\u001b[39m\u001b[38;5;124m'\u001b[39m, flipped_image)\n",
      "\u001b[0;31merror\u001b[0m: OpenCV(4.8.1) /io/opencv/modules/highgui/src/window.cpp:971: error: (-215:Assertion failed) size.width>0 && size.height>0 in function 'imshow'\n"
     ]
    }
   ],
   "source": [
    "cv2.imshow('Original Image', image)\n",
    "cv2.imshow('Rotated Image', rotated_image)\n",
    "cv2.imshow('Flipped Image', flipped_image)\n",
    "cv2.imshow('Resized Image', resized_image)\n",
    "cv2.imshow('Adjusted Image', adjusted_image)\n",
    "cv2.imshow('Noisy Image', noisy_image)\n",
    "cv2.imshow('Blurred Image', blurred_image)\n",
    "cv2.imshow('Rotated Image', rotated_image)\n",
    "cv2.imshow('Perspective Transformed Image', perspective_transformed)\n",
    "cv2.imshow('Saturated Image', saturated_image)"
   ]
  },
  {
   "cell_type": "markdown",
   "id": "d792a6e9-b5a9-48ff-9d7c-55ac12627062",
   "metadata": {},
   "source": [
    "# Image show 종료"
   ]
  },
  {
   "cell_type": "code",
   "execution_count": 28,
   "id": "8aef281c-9a09-4f77-86dc-4137e2e45a42",
   "metadata": {},
   "outputs": [],
   "source": [
    "cv2.waitKey(0)\n",
    "cv2.destroyAllWindows()"
   ]
  }
 ],
 "metadata": {
  "kernelspec": {
   "display_name": "Python 3 (ipykernel)",
   "language": "python",
   "name": "python3"
  },
  "language_info": {
   "codemirror_mode": {
    "name": "ipython",
    "version": 3
   },
   "file_extension": ".py",
   "mimetype": "text/x-python",
   "name": "python",
   "nbconvert_exporter": "python",
   "pygments_lexer": "ipython3",
   "version": "3.10.12"
  }
 },
 "nbformat": 4,
 "nbformat_minor": 5
}
